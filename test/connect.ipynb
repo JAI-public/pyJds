{
 "cells": [
  {
   "cell_type": "code",
   "execution_count": 1,
   "id": "219d7662-2bd3-4981-b7a5-2fb0dd60da12",
   "metadata": {},
   "outputs": [],
   "source": [
    "import os\n",
    "import sys\n",
    "sys.path.append('C:\\\\Users\\\\masami\\\\work\\\\10.development\\\\python_jaids\\\\build\\\\src\\\\pymodule\\\\Debug')\n",
    "os.add_dll_directory('C:\\\\Program Files\\\\Common Files\\\\Pleora\\\\eBUS SDK')\n",
    "import module"
   ]
  },
  {
   "cell_type": "code",
   "execution_count": 2,
   "id": "9a193764-1959-450a-a2a7-ba3d4aba9711",
   "metadata": {},
   "outputs": [
    {
     "name": "stdout",
     "output_type": "stream",
     "text": [
      "Camera %d 1\n"
     ]
    }
   ],
   "source": [
    "camera = module.CameraGEV('192.168.0.105')\n",
    "ar = camera.Array()\n"
   ]
  },
  {
   "cell_type": "code",
   "execution_count": 3,
   "id": "8a14fbbf-7f02-4c7c-b2ad-097cfa542e1d",
   "metadata": {},
   "outputs": [],
   "source": [
    "camera.Connect()\n",
    "width = camera.Feature('Width')"
   ]
  },
  {
   "cell_type": "code",
   "execution_count": null,
   "id": "6f1e44a0-f61a-497a-9a64-bd2a43899a7d",
   "metadata": {},
   "outputs": [],
   "source": [
    "width.Get()"
   ]
  },
  {
   "cell_type": "code",
   "execution_count": 9,
   "id": "f4b3f1d2-87bd-4bce-910e-6adf388286c3",
   "metadata": {},
   "outputs": [],
   "source": [
    "camera.DisConnect()"
   ]
  },
  {
   "cell_type": "code",
   "execution_count": null,
   "id": "7fc25129-cc4d-4f67-b93d-67ddbd7f0748",
   "metadata": {},
   "outputs": [],
   "source": []
  },
  {
   "cell_type": "code",
   "execution_count": null,
   "id": "8ca98a11-51e3-494f-b121-4a884e948e9e",
   "metadata": {},
   "outputs": [],
   "source": []
  }
 ],
 "metadata": {
  "kernelspec": {
   "display_name": "Python 3 (ipykernel)",
   "language": "python",
   "name": "python3"
  },
  "language_info": {
   "codemirror_mode": {
    "name": "ipython",
    "version": 3
   },
   "file_extension": ".py",
   "mimetype": "text/x-python",
   "name": "python",
   "nbconvert_exporter": "python",
   "pygments_lexer": "ipython3",
   "version": "3.8.12"
  }
 },
 "nbformat": 4,
 "nbformat_minor": 5
}
